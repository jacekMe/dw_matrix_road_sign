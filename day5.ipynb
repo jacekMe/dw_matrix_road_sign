{
  "nbformat": 4,
  "nbformat_minor": 0,
  "metadata": {
    "colab": {
      "name": "day5.ipynb",
      "provenance": [],
      "mount_file_id": "1_ryVAoRjc93Z5FQOO2xMXLmLrWfA1ANL",
      "authorship_tag": "ABX9TyOX+Ns5rqKwHAk8yzxLgKG9"
    },
    "kernelspec": {
      "name": "python3",
      "display_name": "Python 3"
    },
    "accelerator": "GPU"
  },
  "cells": [
    {
      "cell_type": "code",
      "metadata": {
        "id": "orOnh-YtAk8j",
        "colab_type": "code",
        "colab": {
          "base_uri": "https://localhost:8080/",
          "height": 173
        },
        "outputId": "83742274-ebea-4f31-bb04-934cf4f64fd6"
      },
      "source": [
        "!pip install hyperopt"
      ],
      "execution_count": 1,
      "outputs": [
        {
          "output_type": "stream",
          "text": [
            "Requirement already satisfied: hyperopt in /usr/local/lib/python3.6/dist-packages (0.1.2)\n",
            "Requirement already satisfied: tqdm in /usr/local/lib/python3.6/dist-packages (from hyperopt) (4.38.0)\n",
            "Requirement already satisfied: six in /usr/local/lib/python3.6/dist-packages (from hyperopt) (1.12.0)\n",
            "Requirement already satisfied: numpy in /usr/local/lib/python3.6/dist-packages (from hyperopt) (1.18.2)\n",
            "Requirement already satisfied: scipy in /usr/local/lib/python3.6/dist-packages (from hyperopt) (1.4.1)\n",
            "Requirement already satisfied: pymongo in /usr/local/lib/python3.6/dist-packages (from hyperopt) (3.10.1)\n",
            "Requirement already satisfied: future in /usr/local/lib/python3.6/dist-packages (from hyperopt) (0.16.0)\n",
            "Requirement already satisfied: networkx in /usr/local/lib/python3.6/dist-packages (from hyperopt) (2.4)\n",
            "Requirement already satisfied: decorator>=4.3.0 in /usr/local/lib/python3.6/dist-packages (from networkx->hyperopt) (4.4.2)\n"
          ],
          "name": "stdout"
        }
      ]
    },
    {
      "cell_type": "code",
      "metadata": {
        "id": "WwjUxETtNPip",
        "colab_type": "code",
        "colab": {
          "base_uri": "https://localhost:8080/",
          "height": 52
        },
        "outputId": "562d920b-5e1d-49cb-dda3-d4e3a2b74d8f"
      },
      "source": [
        "import pandas as pd\n",
        "import numpy as np\n",
        "import os\n",
        "import datetime\n",
        "\n",
        "import tensorflow as tf\n",
        "from tensorflow.keras.models import Sequential\n",
        "from tensorflow.keras.layers import Conv2D, MaxPool2D, Dense, Flatten, Dropout\n",
        "from tensorflow.keras.utils import to_categorical\n",
        "\n",
        "%load_ext tensorboard\n",
        "\n",
        "import matplotlib.pyplot as plt\n",
        "from skimage import color, exposure\n",
        "\n",
        "from sklearn.metrics import accuracy_score\n",
        "\n",
        "from hyperopt import hp, STATUS_OK, tpe, Trials, fmin"
      ],
      "execution_count": 16,
      "outputs": [
        {
          "output_type": "stream",
          "text": [
            "The tensorboard extension is already loaded. To reload it, use:\n",
            "  %reload_ext tensorboard\n"
          ],
          "name": "stdout"
        }
      ]
    },
    {
      "cell_type": "code",
      "metadata": {
        "id": "WYkAxBFdNdDM",
        "colab_type": "code",
        "colab": {
          "base_uri": "https://localhost:8080/",
          "height": 34
        },
        "outputId": "22ae6b78-d823-4af1-9111-18c143625ed7"
      },
      "source": [
        "cd '/content/drive/My Drive/Colab Notebooks/dw_matrix/matrix_three/dw_matrix_road_sign'"
      ],
      "execution_count": 3,
      "outputs": [
        {
          "output_type": "stream",
          "text": [
            "/content/drive/My Drive/Colab Notebooks/dw_matrix/matrix_three/dw_matrix_road_sign\n"
          ],
          "name": "stdout"
        }
      ]
    },
    {
      "cell_type": "code",
      "metadata": {
        "id": "bYT-ttzHNs8o",
        "colab_type": "code",
        "colab": {}
      },
      "source": [
        "train = pd.read_pickle('data/train.p')\n",
        "test = pd.read_pickle('data/test.p')\n",
        "\n",
        "X_train, y_train = train['features'], train['labels']\n",
        "X_test, y_test = test['features'], test['labels']\n",
        "\n",
        "df = pd.read_csv('data/signnames.csv')\n",
        "labels_dict = df.to_dict()['b']"
      ],
      "execution_count": 0,
      "outputs": []
    },
    {
      "cell_type": "code",
      "metadata": {
        "id": "F0Win8F8N0v-",
        "colab_type": "code",
        "colab": {}
      },
      "source": [
        "if y_train.ndim == 1: y_train = to_categorical(y_train)\n",
        "if y_test.ndim == 1: y_test = to_categorical(y_test)\n",
        "\n",
        "input_shape = X_train.shape[1:]\n",
        "num_classes = y_train.shape[1]"
      ],
      "execution_count": 0,
      "outputs": []
    },
    {
      "cell_type": "code",
      "metadata": {
        "id": "eC1XyprdN53P",
        "colab_type": "code",
        "colab": {}
      },
      "source": [
        "def train_model(model, X_train, y_train, params_fit={}):\n",
        "  model.compile(loss='categorical_crossentropy', optimizer='Adam', metrics=['accuracy'])\n",
        "\n",
        "  logdir = os.path.join(\"logs\", datetime.datetime.now().strftime(\"%Y%m%d-%H%M%S\"))\n",
        "  tensorboard_callback = tf.keras.callbacks.TensorBoard(logdir, histogram_freq=1)\n",
        "\n",
        "  model.fit(\n",
        "      X_train,\n",
        "      y_train,\n",
        "      batch_size=params_fit.get('batch_size', 128),\n",
        "      epochs=params_fit.get('epochs', 5),\n",
        "      verbose=params_fit.get('verbose', 1),\n",
        "      validation_data=params_fit.get('validation_data', (X_train, y_train)),\n",
        "      callbacks=[tensorboard_callback]\n",
        "  )\n",
        "\n",
        "  return model\n",
        "\n",
        "def predict(model_trained, X_test, y_test, scoring=accuracy_score):\n",
        "\n",
        "  y_test_norm = np.argmax(y_test, axis=1) \n",
        "\n",
        "  y_pred_prob = model_trained.predict(X_test)\n",
        "  y_pred = np.argmax(y_pred_prob, axis=1)\n",
        "\n",
        "  return scoring(y_test_norm, y_pred)"
      ],
      "execution_count": 0,
      "outputs": []
    },
    {
      "cell_type": "code",
      "metadata": {
        "id": "JlpeaCt1OVd9",
        "colab_type": "code",
        "colab": {}
      },
      "source": [
        "def get_cnn_v5(input_shape, num_classes):\n",
        "  return Sequential([\n",
        "    Conv2D(filters=32, kernel_size=(3, 3), activation='relu', input_shape=input_shape),\n",
        "    Conv2D(filters=32, kernel_size=(3, 3), activation='relu', padding='same'),\n",
        "    MaxPool2D(),\n",
        "    Dropout(0.3),\n",
        "\n",
        "    Conv2D(filters=64, kernel_size=(3, 3), activation='relu', padding='same'),\n",
        "    Conv2D(filters=64, kernel_size=(3, 3), activation='relu'),\n",
        "    MaxPool2D(),\n",
        "    Dropout(0.3),\n",
        "\n",
        "    Conv2D(filters=64, kernel_size=(3, 3), activation='relu', padding='same'),\n",
        "    Conv2D(filters=64, kernel_size=(3, 3), activation='relu'),\n",
        "    MaxPool2D(),\n",
        "    Dropout(0.3),\n",
        "\n",
        "    Flatten(),\n",
        "\n",
        "    Dense(1024, activation='relu'),\n",
        "    Dropout(0.3),\n",
        "\n",
        "    Dense(1024, activation='relu'),\n",
        "    Dropout(0.3),\n",
        "    \n",
        "    Dense(num_classes, activation='softmax'),\n",
        "  ])\n",
        "\n",
        "#train_and_predict( get_cnn_v5(input_shape, num_classes) )"
      ],
      "execution_count": 0,
      "outputs": []
    },
    {
      "cell_type": "code",
      "metadata": {
        "id": "E6QyEyRrOlK-",
        "colab_type": "code",
        "colab": {
          "base_uri": "https://localhost:8080/",
          "height": 208
        },
        "outputId": "062fd67e-ce1a-4dfe-df4d-35005692594a"
      },
      "source": [
        "model = get_cnn_v5(input_shape, num_classes)\n",
        "model_trained = train_model(model, X_train, y_train)\n",
        "predict(model_trained, X_test, y_test)"
      ],
      "execution_count": 8,
      "outputs": [
        {
          "output_type": "stream",
          "text": [
            "Epoch 1/5\n",
            "272/272 [==============================] - 4s 14ms/step - loss: 2.7889 - accuracy: 0.2581 - val_loss: 1.1432 - val_accuracy: 0.6538\n",
            "Epoch 2/5\n",
            "272/272 [==============================] - 4s 13ms/step - loss: 0.9652 - accuracy: 0.6927 - val_loss: 0.3917 - val_accuracy: 0.8750\n",
            "Epoch 3/5\n",
            "272/272 [==============================] - 4s 13ms/step - loss: 0.4781 - accuracy: 0.8504 - val_loss: 0.1147 - val_accuracy: 0.9650\n",
            "Epoch 4/5\n",
            "272/272 [==============================] - 4s 13ms/step - loss: 0.3128 - accuracy: 0.9045 - val_loss: 0.1002 - val_accuracy: 0.9698\n",
            "Epoch 5/5\n",
            "272/272 [==============================] - 4s 13ms/step - loss: 0.2234 - accuracy: 0.9315 - val_loss: 0.0428 - val_accuracy: 0.9882\n"
          ],
          "name": "stdout"
        },
        {
          "output_type": "execute_result",
          "data": {
            "text/plain": [
              "0.9598639455782313"
            ]
          },
          "metadata": {
            "tags": []
          },
          "execution_count": 8
        }
      ]
    },
    {
      "cell_type": "code",
      "metadata": {
        "id": "pCbtOou2P95g",
        "colab_type": "code",
        "colab": {
          "base_uri": "https://localhost:8080/",
          "height": 52
        },
        "outputId": "7e07ac68-5ec2-4293-df81-c593a65c7cd8"
      },
      "source": [
        "model_trained.evaluate(X_test, y_test)[1]"
      ],
      "execution_count": 14,
      "outputs": [
        {
          "output_type": "stream",
          "text": [
            "138/138 [==============================] - 0s 3ms/step - loss: 0.1663 - accuracy: 0.9599\n"
          ],
          "name": "stdout"
        },
        {
          "output_type": "execute_result",
          "data": {
            "text/plain": [
              "0.9598639607429504"
            ]
          },
          "metadata": {
            "tags": []
          },
          "execution_count": 14
        }
      ]
    },
    {
      "cell_type": "code",
      "metadata": {
        "id": "x6gumPFNTZDc",
        "colab_type": "code",
        "colab": {}
      },
      "source": [
        "def get_model(params):\n",
        "  return Sequential([\n",
        "    Conv2D(filters=32, kernel_size=(3, 3), activation='relu', input_shape=input_shape),\n",
        "    Conv2D(filters=32, kernel_size=(3, 3), activation='relu', padding='same'),\n",
        "    Conv2D(filters=32, kernel_size=(3, 3), activation='relu', padding='same'),\n",
        "    MaxPool2D(),\n",
        "    Dropout(params['dropout_cnn_block_one']),\n",
        "\n",
        "    Conv2D(filters=64, kernel_size=(3, 3), activation='relu', padding='same'),\n",
        "    Conv2D(filters=64, kernel_size=(3, 3), activation='relu', padding='same'),\n",
        "    Conv2D(filters=64, kernel_size=(3, 3), activation='relu'),\n",
        "    MaxPool2D(),\n",
        "    Dropout(params['dropout_cnn_block_two']),\n",
        "\n",
        "    Conv2D(filters=128, kernel_size=(3, 3), activation='relu', padding='same'),\n",
        "    Conv2D(filters=128, kernel_size=(3, 3), activation='relu', padding='same'),\n",
        "    Conv2D(filters=128, kernel_size=(3, 3), activation='relu'),\n",
        "    MaxPool2D(),\n",
        "    Dropout(params['dropout_cnn_block_three']),\n",
        "\n",
        "    Flatten(),\n",
        "\n",
        "    Dense(1024, activation='relu'),\n",
        "    Dropout(params['dropout_dense_block_one']),\n",
        "\n",
        "    Dense(1024, activation='relu'),\n",
        "    Dropout(params['dropout_dense_block_two']),\n",
        "    \n",
        "    Dense(num_classes, activation='softmax'),\n",
        "  ])"
      ],
      "execution_count": 0,
      "outputs": []
    },
    {
      "cell_type": "code",
      "metadata": {
        "id": "xRnPAGjTPbci",
        "colab_type": "code",
        "colab": {}
      },
      "source": [
        "def func_obj(params):\n",
        "  model = get_model(params)\n",
        "  model.compile(loss='categorical_crossentropy', optimizer='Adam', metrics=['accuracy'])\n",
        "\n",
        "  model.fit(\n",
        "      X_train,\n",
        "      y_train,\n",
        "      batch_size=int(params.get('batch_size', 128)),\n",
        "      epochs=5,\n",
        "      verbose=0,\n",
        "  )\n",
        "\n",
        "  score = model.evaluate(X_test, y_test, verbose=0)\n",
        "  accuracy = score[1]\n",
        "  print(params, 'accuracy={}'.format(accuracy))\n",
        "\n",
        "  return {'loss': -accuracy, 'status': STATUS_OK, 'model': model}"
      ],
      "execution_count": 0,
      "outputs": []
    },
    {
      "cell_type": "code",
      "metadata": {
        "id": "SEsoBwcPQUfX",
        "colab_type": "code",
        "colab": {
          "base_uri": "https://localhost:8080/",
          "height": 923
        },
        "outputId": "2a31e9df-994c-4b34-ed89-ec0a8f4d63b4"
      },
      "source": [
        "space = {\n",
        "    'batch_size': hp.quniform('batch_size', 100, 200, 10),\n",
        "    'dropout_cnn_block_one': hp.uniform('dropout_cnn_block_one', 0.3, 0.5),\n",
        "    'dropout_cnn_block_two': hp.uniform('dropout_cnn_block_two', 0.3, 0.5),\n",
        "    'dropout_cnn_block_three': hp.uniform('dropout_cnn_block_three', 0.3, 0.5),\n",
        "\n",
        "    'dropout_dense_block_one': hp.uniform('dropout_dense_block_one', 0.3, 0.7),\n",
        "    'dropout_dense_block_two': hp.uniform('dropout_dense_block_two', 0.3, 0.7),\n",
        "}\n",
        "\n",
        "best = fmin(\n",
        "    func_obj,\n",
        "    space,\n",
        "    tpe.suggest,\n",
        "    25,\n",
        "    Trials()\n",
        ")"
      ],
      "execution_count": 27,
      "outputs": [
        {
          "output_type": "stream",
          "text": [
            "{'batch_size': 180.0, 'dropout_cnn_block_one': 0.3050508863225766, 'dropout_cnn_block_three': 0.3017293199424828, 'dropout_cnn_block_two': 0.4815538903683155, 'dropout_dense_block_one': 0.5007519532034042, 'dropout_dense_block_two': 0.3164067762054826}\n",
            "accuracy=0.9625850319862366\n",
            "{'batch_size': 140.0, 'dropout_cnn_block_one': 0.39125206981284566, 'dropout_cnn_block_three': 0.3705548594844743, 'dropout_cnn_block_two': 0.4497353248700722, 'dropout_dense_block_one': 0.6462429437562552, 'dropout_dense_block_two': 0.6637800437699417}\n",
            "accuracy=0.9247165322303772\n",
            "{'batch_size': 140.0, 'dropout_cnn_block_one': 0.40196038056482736, 'dropout_cnn_block_three': 0.30336767389346336, 'dropout_cnn_block_two': 0.3721429691026839, 'dropout_dense_block_one': 0.5929214863693029, 'dropout_dense_block_two': 0.37845846373174014}\n",
            "accuracy=0.9585034251213074\n",
            "{'batch_size': 100.0, 'dropout_cnn_block_one': 0.4648307475297264, 'dropout_cnn_block_three': 0.35262960069545624, 'dropout_cnn_block_two': 0.4101527939862897, 'dropout_dense_block_one': 0.6596498025441718, 'dropout_dense_block_two': 0.6562079878121996}\n",
            "accuracy=0.9451247453689575\n",
            "{'batch_size': 110.0, 'dropout_cnn_block_one': 0.34798660581060376, 'dropout_cnn_block_three': 0.4073766725108739, 'dropout_cnn_block_two': 0.30605511843493305, 'dropout_dense_block_one': 0.39757018415687906, 'dropout_dense_block_two': 0.6755123397998821}\n",
            "accuracy=0.9759637117385864\n",
            "{'batch_size': 140.0, 'dropout_cnn_block_one': 0.37784285225730463, 'dropout_cnn_block_three': 0.4977880763526841, 'dropout_cnn_block_two': 0.4433205366386065, 'dropout_dense_block_one': 0.6293548240909754, 'dropout_dense_block_two': 0.49947811365690997}\n",
            "accuracy=0.9675737023353577\n",
            "{'batch_size': 160.0, 'dropout_cnn_block_one': 0.45276812179376213, 'dropout_cnn_block_three': 0.35630588882840597, 'dropout_cnn_block_two': 0.37578455817391954, 'dropout_dense_block_one': 0.6258553572951842, 'dropout_dense_block_two': 0.39709129865503123}\n",
            "accuracy=0.9510204195976257\n",
            "{'batch_size': 120.0, 'dropout_cnn_block_one': 0.37063695438701894, 'dropout_cnn_block_three': 0.4298288792146338, 'dropout_cnn_block_two': 0.41156333074281193, 'dropout_dense_block_one': 0.6602598056432536, 'dropout_dense_block_two': 0.682940403588039}\n",
            "accuracy=0.9467120170593262\n",
            "{'batch_size': 130.0, 'dropout_cnn_block_one': 0.4704439259787261, 'dropout_cnn_block_three': 0.47279753633836247, 'dropout_cnn_block_two': 0.3351040859677764, 'dropout_dense_block_one': 0.4481995267748409, 'dropout_dense_block_two': 0.6152216914460006}\n",
            "accuracy=0.963718831539154\n",
            "{'batch_size': 180.0, 'dropout_cnn_block_one': 0.3679021718361434, 'dropout_cnn_block_three': 0.3170187903212327, 'dropout_cnn_block_two': 0.3849669318955018, 'dropout_dense_block_one': 0.5382806216429719, 'dropout_dense_block_two': 0.6082673234576046}\n",
            "accuracy=0.9269841313362122\n",
            "{'batch_size': 120.0, 'dropout_cnn_block_one': 0.39254749559275126, 'dropout_cnn_block_three': 0.47603623632549524, 'dropout_cnn_block_two': 0.4435978664414293, 'dropout_dense_block_one': 0.6060266614681742, 'dropout_dense_block_two': 0.3364947185846235}\n",
            "accuracy=0.9523809552192688\n",
            "{'batch_size': 120.0, 'dropout_cnn_block_one': 0.3157228314720628, 'dropout_cnn_block_three': 0.3849653075628445, 'dropout_cnn_block_two': 0.32746154084592394, 'dropout_dense_block_one': 0.4922294534967193, 'dropout_dense_block_two': 0.4169338230165007}\n",
            "accuracy=0.961904764175415\n",
            "{'batch_size': 170.0, 'dropout_cnn_block_one': 0.42282947839357493, 'dropout_cnn_block_three': 0.3600317630309639, 'dropout_cnn_block_two': 0.4767624021552682, 'dropout_dense_block_one': 0.5313732322306741, 'dropout_dense_block_two': 0.30832008675464495}\n",
            "accuracy=0.9462584853172302\n",
            "{'batch_size': 120.0, 'dropout_cnn_block_one': 0.4170699149031233, 'dropout_cnn_block_three': 0.4843682164913584, 'dropout_cnn_block_two': 0.33509053994636556, 'dropout_dense_block_one': 0.3936457169204243, 'dropout_dense_block_two': 0.5012923694510037}\n",
            "accuracy=0.9609977602958679\n",
            "{'batch_size': 160.0, 'dropout_cnn_block_one': 0.3818702015572368, 'dropout_cnn_block_three': 0.30827257082467235, 'dropout_cnn_block_two': 0.4869631620436702, 'dropout_dense_block_one': 0.5915922337986009, 'dropout_dense_block_two': 0.33786615776435164}\n",
            "accuracy=0.9639455676078796\n",
            "{'batch_size': 180.0, 'dropout_cnn_block_one': 0.4432408494342309, 'dropout_cnn_block_three': 0.3714259445222647, 'dropout_cnn_block_two': 0.46378080647173997, 'dropout_dense_block_one': 0.3379851203442002, 'dropout_dense_block_two': 0.5601363391700179}\n",
            "accuracy=0.9419501423835754\n",
            "{'batch_size': 180.0, 'dropout_cnn_block_one': 0.4126091302330314, 'dropout_cnn_block_three': 0.4958225250426407, 'dropout_cnn_block_two': 0.33151261906643387, 'dropout_dense_block_one': 0.32213761058450857, 'dropout_dense_block_two': 0.5838876728123896}\n",
            "accuracy=0.9487528204917908\n",
            "{'batch_size': 160.0, 'dropout_cnn_block_one': 0.49043663828937334, 'dropout_cnn_block_three': 0.4376759054417634, 'dropout_cnn_block_two': 0.408642912639123, 'dropout_dense_block_one': 0.4248112465045552, 'dropout_dense_block_two': 0.40910154920929015}\n",
            "accuracy=0.9546485543251038\n",
            "{'batch_size': 170.0, 'dropout_cnn_block_one': 0.4009480864606614, 'dropout_cnn_block_three': 0.4504386210703497, 'dropout_cnn_block_two': 0.4423382868019328, 'dropout_dense_block_one': 0.5562433293325262, 'dropout_dense_block_two': 0.3171531681265856}\n",
            "accuracy=0.9575963616371155\n",
            "{'batch_size': 170.0, 'dropout_cnn_block_one': 0.3031279997511153, 'dropout_cnn_block_three': 0.35510430059367043, 'dropout_cnn_block_two': 0.49202268461184134, 'dropout_dense_block_one': 0.6844938228320581, 'dropout_dense_block_two': 0.36670591744166425}\n",
            "accuracy=0.9702947735786438\n",
            "{'batch_size': 100.0, 'dropout_cnn_block_one': 0.3347405978646224, 'dropout_cnn_block_three': 0.4047943355678697, 'dropout_cnn_block_two': 0.3107761408383186, 'dropout_dense_block_one': 0.3687027021726838, 'dropout_dense_block_two': 0.46631203792672016}\n",
            "accuracy=0.9609977602958679\n",
            "{'batch_size': 200.0, 'dropout_cnn_block_one': 0.3457314680282386, 'dropout_cnn_block_three': 0.3270948691965904, 'dropout_cnn_block_two': 0.3018309418547236, 'dropout_dense_block_one': 0.6997073661650935, 'dropout_dense_block_two': 0.4540534125775015}\n",
            "accuracy=0.9655328989028931\n",
            "{'batch_size': 190.0, 'dropout_cnn_block_one': 0.3311317906477988, 'dropout_cnn_block_three': 0.4053313759762724, 'dropout_cnn_block_two': 0.35809754207926897, 'dropout_dense_block_one': 0.46085964510169314, 'dropout_dense_block_two': 0.536489161601386}\n",
            "accuracy=0.9791383147239685\n",
            "{'batch_size': 200.0, 'dropout_cnn_block_one': 0.3480679459340226, 'dropout_cnn_block_three': 0.4101674986710342, 'dropout_cnn_block_two': 0.3619452175827186, 'dropout_dense_block_one': 0.44925300105646393, 'dropout_dense_block_two': 0.5392455104035174}\n",
            "accuracy=0.9639455676078796\n",
            "{'batch_size': 110.0, 'dropout_cnn_block_one': 0.33009381687851513, 'dropout_cnn_block_three': 0.42268777005141134, 'dropout_cnn_block_two': 0.34625573499752027, 'dropout_dense_block_one': 0.37445810264176904, 'dropout_dense_block_two': 0.6311904714842096}\n",
            "accuracy=0.9671201705932617\n",
            "100%|██████████| 25/25 [06:24<00:00, 15.38s/it, best loss: -0.9791383147239685]\n"
          ],
          "name": "stdout"
        }
      ]
    },
    {
      "cell_type": "code",
      "metadata": {
        "id": "IkxY5SKMTDxd",
        "colab_type": "code",
        "colab": {}
      },
      "source": [
        ""
      ],
      "execution_count": 0,
      "outputs": []
    }
  ]
}